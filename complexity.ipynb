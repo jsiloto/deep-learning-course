{
 "cells": [
  {
   "cell_type": "code",
   "execution_count": 13,
   "id": "ef5a871a",
   "metadata": {},
   "outputs": [
    {
     "name": "stdout",
     "output_type": "stream",
     "text": [
      "Computational complexity:       457.21 MMac\n",
      "Number of parameters:           4.21 M  \n"
     ]
    }
   ],
   "source": [
    "import ptflops\n",
    "import torch\n",
    "from ptflops import get_model_complexity_info\n",
    "from src.boilerplate import get_model, resume_model\n",
    "device = torch.device(\"cuda:0\" if torch.cuda.is_available() else \"cpu\")\n",
    "\n",
    "import os, sys\n",
    "\n",
    "class HiddenPrints:\n",
    "    def __enter__(self):\n",
    "        self._original_stdout = sys.stdout\n",
    "        sys.stdout = open(os.devnull, 'w')\n",
    "\n",
    "    def __exit__(self, exc_type, exc_val, exc_tb):\n",
    "        sys.stdout.close()\n",
    "        sys.stdout = self._original_stdout\n",
    "\n",
    "with torch.cuda.device(0):\n",
    "    net = get_model(num_classes=10).to(device)\n",
    "    with HiddenPrints():\n",
    "        macs, params = get_model_complexity_info(net, (3, 224, 224), as_strings=True,\n",
    "                                           print_per_layer_stat=False, verbose=False)\n",
    "    print('{:<30}  {:<8}'.format('Computational complexity: ', macs))\n",
    "    print('{:<30}  {:<8}'.format('Number of parameters: ', params))\n"
   ]
  }
 ],
 "metadata": {
  "kernelspec": {
   "display_name": "Python 3 (ipykernel)",
   "language": "python",
   "name": "python3"
  },
  "language_info": {
   "codemirror_mode": {
    "name": "ipython",
    "version": 3
   },
   "file_extension": ".py",
   "mimetype": "text/x-python",
   "name": "python",
   "nbconvert_exporter": "python",
   "pygments_lexer": "ipython3",
   "version": "3.8.10"
  }
 },
 "nbformat": 4,
 "nbformat_minor": 5
}
