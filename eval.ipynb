{
 "cells": [
  {
   "cell_type": "code",
   "execution_count": null,
   "id": "f3cfaf35",
   "metadata": {},
   "outputs": [],
   "source": [
    "import os\n",
    "import sys\n",
    "import torch\n",
    "import matplotlib.pyplot as plt\n",
    "import numpy as np\n",
    "\n",
    "from src.mobilenetv3 import mobilenetv3\n",
    "from src.eval_classifier import validate\n",
    "from src.boilerplate import get_dataset, get_model, resume_model, LRAdjust\n",
    "from src.utils import Bar, Logger, AverageMeter, accuracy, mkdir_p, savefig\n",
    "\n",
    "\n",
    "device = torch.device(\"cuda:0\" if torch.cuda.is_available() else \"cpu\")\n",
    "\n",
    "model = get_model(num_classes=10).to(device)\n",
    "resume_model(model, \"./checkpoints\", optimizer=None, best=True)\n",
    "\n",
    "train_loader, val_loader, train_loader_len, val_loader_len = get_dataset(16)\n",
    "\n"
   ]
  },
  {
   "cell_type": "code",
   "execution_count": null,
   "id": "24688c05",
   "metadata": {},
   "outputs": [],
   "source": [
    "def img_display(img):\n",
    "#     img = img / 2 + 0.5     # unnormalize\n",
    "    npimg = img.numpy()\n",
    "    npimg = np.transpose(npimg, (1, 2, 0))\n",
    "    return npimg\n",
    "\n",
    "\n",
    "\n",
    "classes = val_loader.dataset.classes\n",
    "dataiter = iter(val_loader)\n",
    "images, labels = next(dataiter)\n",
    "# Viewing data examples used for training\n",
    "fig, axis = plt.subplots(3, 5, figsize=(15, 10))\n",
    "with torch.no_grad():\n",
    "    model.eval()\n",
    "    for ax, image, label in zip(axis.flat,images, labels):\n",
    "        ax.imshow(img_display(image)) # add image\n",
    "        image_tensor = image.unsqueeze_(0).to(device)\n",
    "        output_ = model(image_tensor.to(device))\n",
    "        output_ = output_.argmax()\n",
    "        k = output_.item()==label.item()\n",
    "        ax.set_title(classes[output_.item()]+\":\" +str(k)) # add label"
   ]
  },
  {
   "cell_type": "code",
   "execution_count": null,
   "id": "d36475cd",
   "metadata": {},
   "outputs": [],
   "source": []
  }
 ],
 "metadata": {
  "kernelspec": {
   "display_name": "Python 3 (ipykernel)",
   "language": "python",
   "name": "python3"
  },
  "language_info": {
   "codemirror_mode": {
    "name": "ipython",
    "version": 3
   },
   "file_extension": ".py",
   "mimetype": "text/x-python",
   "name": "python",
   "nbconvert_exporter": "python",
   "pygments_lexer": "ipython3",
   "version": "3.8.10"
  }
 },
 "nbformat": 4,
 "nbformat_minor": 5
}
